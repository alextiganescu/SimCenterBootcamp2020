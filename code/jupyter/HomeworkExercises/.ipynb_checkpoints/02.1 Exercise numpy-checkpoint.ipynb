{
 "cells": [
  {
   "cell_type": "markdown",
   "metadata": {},
   "source": [
    "# Exercise 2: numpy"
   ]
  },
  {
   "cell_type": "code",
   "execution_count": 1,
   "metadata": {},
   "outputs": [],
   "source": [
    "import numpy as np"
   ]
  },
  {
   "cell_type": "markdown",
   "metadata": {},
   "source": [
    "## Problem 1: \n",
    "\n",
    "Compute\n",
    "$$\n",
    "   \\left[ \\begin{array}{ccc}\n",
    "   3 &  2 & 1 \\\\\n",
    "   6 & -3 & 0 \\\\\n",
    "   1 &  2 & 9 \\\\\n",
    "   \\end{array} \\right]\n",
    "   \\left[ \\begin{array}{ccc}\n",
    "   -4 & 1 \\\\\n",
    "    7 & 3 \\\\\n",
    "    2 & 5 \\\\\n",
    "   \\end{array} \\right]\n",
    "$$\n",
    "using **matrix** objects"
   ]
  },
  {
   "cell_type": "code",
   "execution_count": 9,
   "metadata": {},
   "outputs": [
    {
     "name": "stdout",
     "output_type": "stream",
     "text": [
      "[[  4  14]\n",
      " [-45  -3]\n",
      " [ 28  52]]\n"
     ]
    }
   ],
   "source": [
    "################\n",
    "# your solution\n",
    "################\n",
    "\n",
    "A = np.matrix('3 2 1; 6 -3 0; 1 2 9')\n",
    "B = np.matrix('-4 1; 7 3; 2 5')\n",
    "C = A@B\n",
    "B\n",
    "print(C)"
   ]
  },
  {
   "cell_type": "markdown",
   "metadata": {},
   "source": [
    "Compute\n",
    "$$\n",
    "   \\left[ \\begin{array}{ccc}\n",
    "   3 &  2 & 1 \\\\\n",
    "   6 & -3 & 0 \\\\\n",
    "   1 &  2 & 9 \\\\\n",
    "   \\end{array} \\right]\n",
    "   \\left[ \\begin{array}{ccc}\n",
    "   -4 & 1 \\\\\n",
    "    7 & 3 \\\\\n",
    "    2 & 5 \\\\\n",
    "   \\end{array} \\right]\n",
    "$$\n",
    "using **array** objects"
   ]
  },
  {
   "cell_type": "code",
   "execution_count": 12,
   "metadata": {},
   "outputs": [
    {
     "name": "stdout",
     "output_type": "stream",
     "text": [
      "[[  4  14]\n",
      " [-45  -3]\n",
      " [ 28  52]]\n"
     ]
    }
   ],
   "source": [
    "D = np.array(A)\n",
    "E = np.array(B)\n",
    "F = D@E\n",
    "\n",
    "print(F)"
   ]
  },
  {
   "cell_type": "markdown",
   "metadata": {},
   "source": [
    "## Problem 2: \n",
    "\n",
    "Numpy provides random number generators for different distributions.\n",
    "You can find simple examples at [https://numpy.org/doc/stable/reference/random/index.html](https://numpy.org/doc/stable/reference/random/index.html)\n",
    "\n",
    "1. Write a function that outputs a list of 250 numbers in a normal distribution with (approximately) mean of 2.5 and standard deviation of 0.75. (check [https://numpy.org/doc/stable/reference/random/generated/numpy.random.normal.html#numpy.random.normal](https://numpy.org/doc/stable/reference/random/generated/numpy.random.normal.html#numpy.random.normal))\n",
    "2. Write a loop that uses this function to create 10 instances of such lists. Compute the actual mean and standard deviation and print them.\n",
    "3. Verify that the answers are indeed random by running your code multiple times."
   ]
  },
  {
   "cell_type": "code",
   "execution_count": 15,
   "metadata": {},
   "outputs": [
    {
     "name": "stdout",
     "output_type": "stream",
     "text": [
      "avg=  2.58344562, std=  0.73524229\n",
      "avg=  2.44593231, std=  0.69530065\n",
      "avg=  2.50137877, std=  0.82282394\n",
      "avg=  2.51304121, std=  0.71543185\n",
      "avg=  2.41438381, std=  0.76409170\n",
      "avg=  2.52491566, std=  0.71468402\n",
      "avg=  2.53107243, std=  0.77362508\n",
      "avg=  2.40597736, std=  0.76162030\n",
      "avg=  2.47704760, std=  0.74641343\n",
      "avg=  2.50433395, std=  0.76146960\n"
     ]
    }
   ],
   "source": [
    "def generate_list():\n",
    "    return np.random.normal(2.5, 0.75, 250)\n",
    "\n",
    "for i in range(10):\n",
    "    data = generate_list()\n",
    "    print(\"avg={:12.8f}, std={:12.8f}\".format(np.mean(data), np.std(data)))"
   ]
  },
  {
   "cell_type": "markdown",
   "metadata": {},
   "source": [
    "## Problem 3: \n",
    "\n",
    "1. Compute and print the eigenvalues, $\\lambda_i$, and eigenvectors, ${\\bf n}_i$, of\n",
    "$$\n",
    "   {\\bf A} =\n",
    "   \\left[ \\begin{array}{ccccc}\n",
    "   3 & 2 & 1 & 0 & 0 \\\\\n",
    "   2 & 3 & 2 & 1 & 0 \\\\\n",
    "   1 & 2 & 3 & 2 & 1 \\\\\n",
    "   0 & 1 & 2 & 3 & 2 \\\\\n",
    "   0 & 0 & 1 & 2 & 3 \n",
    "   \\end{array} \\right]\n",
    "$$\n",
    "2. Show that\n",
    "$$\n",
    "   {\\rm det}({\\bf A}) = \\prod_{i=1}^5 \\lambda_i\n",
    "$$\n",
    "3. Verify the following relation\n",
    "$$\n",
    "   {\\bf A} = \\sum_{i=1}^{5} \\lambda_i\\,{\\bf n}_i\\otimes{\\bf n}_i\n",
    "$$"
   ]
  },
  {
   "cell_type": "code",
   "execution_count": 16,
   "metadata": {},
   "outputs": [
    {
     "name": "stdout",
     "output_type": "stream",
     "text": [
      "lambda=7.654273 with n=[0.3287337  0.48567647 0.55866362 0.48567647 0.3287337 ]\n",
      "lambda=4.561553 with n=[ 5.57345410e-01  4.35162146e-01 -6.11410290e-16 -4.35162146e-01\n",
      " -5.57345410e-01]\n",
      "lambda=1.747703 with n=[ 0.61754841 -0.17829779 -0.41675859 -0.17829779  0.61754841]\n",
      "lambda=0.438447 with n=[ 4.35162146e-01 -5.57345410e-01 -3.92388876e-15  5.57345410e-01\n",
      " -4.35162146e-01]\n",
      "lambda=0.598024 with n=[ 0.10280135 -0.48200442  0.71708245 -0.48200442  0.10280135]\n"
     ]
    }
   ],
   "source": [
    "# 1.\n",
    "A = np.array([\n",
    "    [3,2,1,0,0],\n",
    "    [2,3,2,1,0],\n",
    "    [1,2,3,2,1],\n",
    "    [0,1,2,3,2],\n",
    "    [0,0,1,2,3]\n",
    "])\n",
    "\n",
    "(lam,v) = np.linalg.eig(A)\n",
    "\n",
    "for i in range(5):\n",
    "    lami = lam[i]\n",
    "    ni = v[:,i]\n",
    "    print(\"lambda={:f} with n={}\".format(lami,ni))\n"
   ]
  },
  {
   "cell_type": "code",
   "execution_count": null,
   "metadata": {},
   "outputs": [],
   "source": []
  }
 ],
 "metadata": {
  "kernelspec": {
   "display_name": "Python 3",
   "language": "python",
   "name": "python3"
  },
  "language_info": {
   "codemirror_mode": {
    "name": "ipython",
    "version": 3
   },
   "file_extension": ".py",
   "mimetype": "text/x-python",
   "name": "python",
   "nbconvert_exporter": "python",
   "pygments_lexer": "ipython3",
   "version": "3.7.8"
  }
 },
 "nbformat": 4,
 "nbformat_minor": 4
}
